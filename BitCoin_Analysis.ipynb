{
 "cells": [
  {
   "cell_type": "code",
   "execution_count": 10,
   "metadata": {},
   "outputs": [],
   "source": [
    "import pandas as pd\n",
    "import numpy as np\n",
    "import matplotlib.pyplot as plt\n",
    "import seaborn as sns"
   ]
  },
  {
   "cell_type": "code",
   "execution_count": 11,
   "metadata": {},
   "outputs": [],
   "source": [
    "df = pd.read_csv(r'C:\\Users\\ISHITA SWAMI\\Downloads\\Bitcoin\\bitcoin_price_Training - Training.csv')"
   ]
  },
  {
   "cell_type": "code",
   "execution_count": 12,
   "metadata": {},
   "outputs": [
    {
     "data": {
      "text/html": [
       "<div>\n",
       "<style scoped>\n",
       "    .dataframe tbody tr th:only-of-type {\n",
       "        vertical-align: middle;\n",
       "    }\n",
       "\n",
       "    .dataframe tbody tr th {\n",
       "        vertical-align: top;\n",
       "    }\n",
       "\n",
       "    .dataframe thead th {\n",
       "        text-align: right;\n",
       "    }\n",
       "</style>\n",
       "<table border=\"1\" class=\"dataframe\">\n",
       "  <thead>\n",
       "    <tr style=\"text-align: right;\">\n",
       "      <th></th>\n",
       "      <th>Date</th>\n",
       "      <th>Open</th>\n",
       "      <th>High</th>\n",
       "      <th>Low</th>\n",
       "      <th>Close</th>\n",
       "      <th>Volume</th>\n",
       "      <th>Market Cap</th>\n",
       "    </tr>\n",
       "  </thead>\n",
       "  <tbody>\n",
       "    <tr>\n",
       "      <th>0</th>\n",
       "      <td>Jul 31, 2017</td>\n",
       "      <td>2763.24</td>\n",
       "      <td>2889.62</td>\n",
       "      <td>2720.61</td>\n",
       "      <td>2875.34</td>\n",
       "      <td>860,575,000</td>\n",
       "      <td>45,535,800,000</td>\n",
       "    </tr>\n",
       "    <tr>\n",
       "      <th>1</th>\n",
       "      <td>Jul 30, 2017</td>\n",
       "      <td>2724.39</td>\n",
       "      <td>2758.53</td>\n",
       "      <td>2644.85</td>\n",
       "      <td>2757.18</td>\n",
       "      <td>705,943,000</td>\n",
       "      <td>44,890,700,000</td>\n",
       "    </tr>\n",
       "    <tr>\n",
       "      <th>2</th>\n",
       "      <td>Jul 29, 2017</td>\n",
       "      <td>2807.02</td>\n",
       "      <td>2808.76</td>\n",
       "      <td>2692.80</td>\n",
       "      <td>2726.45</td>\n",
       "      <td>803,746,000</td>\n",
       "      <td>46,246,700,000</td>\n",
       "    </tr>\n",
       "  </tbody>\n",
       "</table>\n",
       "</div>"
      ],
      "text/plain": [
       "           Date     Open     High      Low    Close       Volume  \\\n",
       "0  Jul 31, 2017  2763.24  2889.62  2720.61  2875.34  860,575,000   \n",
       "1  Jul 30, 2017  2724.39  2758.53  2644.85  2757.18  705,943,000   \n",
       "2  Jul 29, 2017  2807.02  2808.76  2692.80  2726.45  803,746,000   \n",
       "\n",
       "       Market Cap  \n",
       "0  45,535,800,000  \n",
       "1  44,890,700,000  \n",
       "2  46,246,700,000  "
      ]
     },
     "execution_count": 12,
     "metadata": {},
     "output_type": "execute_result"
    }
   ],
   "source": [
    "df.head(3)"
   ]
  },
  {
   "cell_type": "code",
   "execution_count": 13,
   "metadata": {},
   "outputs": [
    {
     "data": {
      "text/plain": [
       "Index(['Date', 'Open', 'High', 'Low', 'Close', 'Volume', 'Market Cap'], dtype='object')"
      ]
     },
     "execution_count": 13,
     "metadata": {},
     "output_type": "execute_result"
    }
   ],
   "source": [
    "df.columns"
   ]
  },
  {
   "cell_type": "code",
   "execution_count": 14,
   "metadata": {},
   "outputs": [
    {
     "data": {
      "text/plain": [
       "(1556, 7)"
      ]
     },
     "execution_count": 14,
     "metadata": {},
     "output_type": "execute_result"
    }
   ],
   "source": [
    "df.shape"
   ]
  },
  {
   "cell_type": "code",
   "execution_count": 15,
   "metadata": {},
   "outputs": [
    {
     "name": "stdout",
     "output_type": "stream",
     "text": [
      "<class 'pandas.core.frame.DataFrame'>\n",
      "RangeIndex: 1556 entries, 0 to 1555\n",
      "Data columns (total 7 columns):\n",
      " #   Column      Non-Null Count  Dtype  \n",
      "---  ------      --------------  -----  \n",
      " 0   Date        1556 non-null   object \n",
      " 1   Open        1556 non-null   float64\n",
      " 2   High        1556 non-null   float64\n",
      " 3   Low         1556 non-null   float64\n",
      " 4   Close       1556 non-null   float64\n",
      " 5   Volume      1556 non-null   object \n",
      " 6   Market Cap  1556 non-null   object \n",
      "dtypes: float64(4), object(3)\n",
      "memory usage: 85.2+ KB\n"
     ]
    }
   ],
   "source": [
    "df.info()"
   ]
  },
  {
   "cell_type": "code",
   "execution_count": 16,
   "metadata": {},
   "outputs": [
    {
     "data": {
      "text/html": [
       "<div>\n",
       "<style scoped>\n",
       "    .dataframe tbody tr th:only-of-type {\n",
       "        vertical-align: middle;\n",
       "    }\n",
       "\n",
       "    .dataframe tbody tr th {\n",
       "        vertical-align: top;\n",
       "    }\n",
       "\n",
       "    .dataframe thead th {\n",
       "        text-align: right;\n",
       "    }\n",
       "</style>\n",
       "<table border=\"1\" class=\"dataframe\">\n",
       "  <thead>\n",
       "    <tr style=\"text-align: right;\">\n",
       "      <th></th>\n",
       "      <th>Open</th>\n",
       "      <th>High</th>\n",
       "      <th>Low</th>\n",
       "      <th>Close</th>\n",
       "    </tr>\n",
       "  </thead>\n",
       "  <tbody>\n",
       "    <tr>\n",
       "      <th>count</th>\n",
       "      <td>1556.000000</td>\n",
       "      <td>1556.000000</td>\n",
       "      <td>1556.000000</td>\n",
       "      <td>1556.000000</td>\n",
       "    </tr>\n",
       "    <tr>\n",
       "      <th>mean</th>\n",
       "      <td>582.625328</td>\n",
       "      <td>597.992847</td>\n",
       "      <td>567.851446</td>\n",
       "      <td>584.239396</td>\n",
       "    </tr>\n",
       "    <tr>\n",
       "      <th>std</th>\n",
       "      <td>523.137312</td>\n",
       "      <td>542.992855</td>\n",
       "      <td>505.877401</td>\n",
       "      <td>525.904442</td>\n",
       "    </tr>\n",
       "    <tr>\n",
       "      <th>min</th>\n",
       "      <td>68.500000</td>\n",
       "      <td>74.560000</td>\n",
       "      <td>65.530000</td>\n",
       "      <td>68.430000</td>\n",
       "    </tr>\n",
       "    <tr>\n",
       "      <th>25%</th>\n",
       "      <td>254.287500</td>\n",
       "      <td>260.327500</td>\n",
       "      <td>248.835000</td>\n",
       "      <td>254.320000</td>\n",
       "    </tr>\n",
       "    <tr>\n",
       "      <th>50%</th>\n",
       "      <td>438.600000</td>\n",
       "      <td>447.560000</td>\n",
       "      <td>430.570000</td>\n",
       "      <td>438.855000</td>\n",
       "    </tr>\n",
       "    <tr>\n",
       "      <th>75%</th>\n",
       "      <td>662.437500</td>\n",
       "      <td>674.525000</td>\n",
       "      <td>646.735000</td>\n",
       "      <td>663.402500</td>\n",
       "    </tr>\n",
       "    <tr>\n",
       "      <th>max</th>\n",
       "      <td>2953.220000</td>\n",
       "      <td>2999.910000</td>\n",
       "      <td>2840.530000</td>\n",
       "      <td>2958.110000</td>\n",
       "    </tr>\n",
       "  </tbody>\n",
       "</table>\n",
       "</div>"
      ],
      "text/plain": [
       "              Open         High          Low        Close\n",
       "count  1556.000000  1556.000000  1556.000000  1556.000000\n",
       "mean    582.625328   597.992847   567.851446   584.239396\n",
       "std     523.137312   542.992855   505.877401   525.904442\n",
       "min      68.500000    74.560000    65.530000    68.430000\n",
       "25%     254.287500   260.327500   248.835000   254.320000\n",
       "50%     438.600000   447.560000   430.570000   438.855000\n",
       "75%     662.437500   674.525000   646.735000   663.402500\n",
       "max    2953.220000  2999.910000  2840.530000  2958.110000"
      ]
     },
     "execution_count": 16,
     "metadata": {},
     "output_type": "execute_result"
    }
   ],
   "source": [
    "df.describe()"
   ]
  },
  {
   "cell_type": "code",
   "execution_count": 17,
   "metadata": {},
   "outputs": [
    {
     "data": {
      "text/html": [
       "<div>\n",
       "<style scoped>\n",
       "    .dataframe tbody tr th:only-of-type {\n",
       "        vertical-align: middle;\n",
       "    }\n",
       "\n",
       "    .dataframe tbody tr th {\n",
       "        vertical-align: top;\n",
       "    }\n",
       "\n",
       "    .dataframe thead th {\n",
       "        text-align: right;\n",
       "    }\n",
       "</style>\n",
       "<table border=\"1\" class=\"dataframe\">\n",
       "  <thead>\n",
       "    <tr style=\"text-align: right;\">\n",
       "      <th></th>\n",
       "      <th>count</th>\n",
       "      <th>mean</th>\n",
       "      <th>std</th>\n",
       "      <th>min</th>\n",
       "      <th>25%</th>\n",
       "      <th>50%</th>\n",
       "      <th>75%</th>\n",
       "      <th>max</th>\n",
       "    </tr>\n",
       "  </thead>\n",
       "  <tbody>\n",
       "    <tr>\n",
       "      <th>Open</th>\n",
       "      <td>1556.0</td>\n",
       "      <td>582.625328</td>\n",
       "      <td>523.137312</td>\n",
       "      <td>68.50</td>\n",
       "      <td>254.2875</td>\n",
       "      <td>438.600</td>\n",
       "      <td>662.4375</td>\n",
       "      <td>2953.22</td>\n",
       "    </tr>\n",
       "    <tr>\n",
       "      <th>High</th>\n",
       "      <td>1556.0</td>\n",
       "      <td>597.992847</td>\n",
       "      <td>542.992855</td>\n",
       "      <td>74.56</td>\n",
       "      <td>260.3275</td>\n",
       "      <td>447.560</td>\n",
       "      <td>674.5250</td>\n",
       "      <td>2999.91</td>\n",
       "    </tr>\n",
       "    <tr>\n",
       "      <th>Low</th>\n",
       "      <td>1556.0</td>\n",
       "      <td>567.851446</td>\n",
       "      <td>505.877401</td>\n",
       "      <td>65.53</td>\n",
       "      <td>248.8350</td>\n",
       "      <td>430.570</td>\n",
       "      <td>646.7350</td>\n",
       "      <td>2840.53</td>\n",
       "    </tr>\n",
       "    <tr>\n",
       "      <th>Close</th>\n",
       "      <td>1556.0</td>\n",
       "      <td>584.239396</td>\n",
       "      <td>525.904442</td>\n",
       "      <td>68.43</td>\n",
       "      <td>254.3200</td>\n",
       "      <td>438.855</td>\n",
       "      <td>663.4025</td>\n",
       "      <td>2958.11</td>\n",
       "    </tr>\n",
       "  </tbody>\n",
       "</table>\n",
       "</div>"
      ],
      "text/plain": [
       "        count        mean         std    min       25%      50%       75%  \\\n",
       "Open   1556.0  582.625328  523.137312  68.50  254.2875  438.600  662.4375   \n",
       "High   1556.0  597.992847  542.992855  74.56  260.3275  447.560  674.5250   \n",
       "Low    1556.0  567.851446  505.877401  65.53  248.8350  430.570  646.7350   \n",
       "Close  1556.0  584.239396  525.904442  68.43  254.3200  438.855  663.4025   \n",
       "\n",
       "           max  \n",
       "Open   2953.22  \n",
       "High   2999.91  \n",
       "Low    2840.53  \n",
       "Close  2958.11  "
      ]
     },
     "execution_count": 17,
     "metadata": {},
     "output_type": "execute_result"
    }
   ],
   "source": [
    "df.describe().T"
   ]
  },
  {
   "cell_type": "code",
   "execution_count": 18,
   "metadata": {},
   "outputs": [
    {
     "data": {
      "text/plain": [
       "Date           object\n",
       "Open          float64\n",
       "High          float64\n",
       "Low           float64\n",
       "Close         float64\n",
       "Volume         object\n",
       "Market Cap     object\n",
       "dtype: object"
      ]
     },
     "execution_count": 18,
     "metadata": {},
     "output_type": "execute_result"
    }
   ],
   "source": [
    "df.dtypes"
   ]
  },
  {
   "cell_type": "code",
   "execution_count": 19,
   "metadata": {},
   "outputs": [
    {
     "data": {
      "text/plain": [
       "0       Jul 31, 2017\n",
       "1       Jul 30, 2017\n",
       "2       Jul 29, 2017\n",
       "3       Jul 28, 2017\n",
       "4       Jul 27, 2017\n",
       "            ...     \n",
       "1551    May 02, 2013\n",
       "1552    May 01, 2013\n",
       "1553    Apr 30, 2013\n",
       "1554    Apr 29, 2013\n",
       "1555    Apr 28, 2013\n",
       "Name: Date, Length: 1556, dtype: object"
      ]
     },
     "execution_count": 19,
     "metadata": {},
     "output_type": "execute_result"
    }
   ],
   "source": [
    "df['Date']"
   ]
  },
  {
   "cell_type": "code",
   "execution_count": 20,
   "metadata": {},
   "outputs": [
    {
     "data": {
      "text/plain": [
       "str"
      ]
     },
     "execution_count": 20,
     "metadata": {},
     "output_type": "execute_result"
    }
   ],
   "source": [
    "type(df['Date'][0])"
   ]
  },
  {
   "cell_type": "code",
   "execution_count": 21,
   "metadata": {},
   "outputs": [
    {
     "data": {
      "text/plain": [
       "'Jul 31, 2017'"
      ]
     },
     "execution_count": 21,
     "metadata": {},
     "output_type": "execute_result"
    }
   ],
   "source": [
    "df['Date'][0]"
   ]
  },
  {
   "cell_type": "code",
   "execution_count": 22,
   "metadata": {},
   "outputs": [],
   "source": [
    "df['Date'] = pd.to_datetime(df['Date'])"
   ]
  },
  {
   "cell_type": "code",
   "execution_count": 23,
   "metadata": {},
   "outputs": [
    {
     "data": {
      "text/plain": [
       "0      2017-07-31\n",
       "1      2017-07-30\n",
       "2      2017-07-29\n",
       "3      2017-07-28\n",
       "4      2017-07-27\n",
       "          ...    \n",
       "1551   2013-05-02\n",
       "1552   2013-05-01\n",
       "1553   2013-04-30\n",
       "1554   2013-04-29\n",
       "1555   2013-04-28\n",
       "Name: Date, Length: 1556, dtype: datetime64[ns]"
      ]
     },
     "execution_count": 23,
     "metadata": {},
     "output_type": "execute_result"
    }
   ],
   "source": [
    "df['Date']"
   ]
  },
  {
   "cell_type": "code",
   "execution_count": 24,
   "metadata": {},
   "outputs": [
    {
     "data": {
      "text/plain": [
       "dtype('<M8[ns]')"
      ]
     },
     "execution_count": 24,
     "metadata": {},
     "output_type": "execute_result"
    }
   ],
   "source": [
    "df['Date'].dtype"
   ]
  },
  {
   "cell_type": "code",
   "execution_count": 25,
   "metadata": {},
   "outputs": [
    {
     "data": {
      "text/plain": [
       "Timestamp('2013-04-28 00:00:00')"
      ]
     },
     "execution_count": 25,
     "metadata": {},
     "output_type": "execute_result"
    }
   ],
   "source": [
    "df['Date'].min()"
   ]
  },
  {
   "cell_type": "code",
   "execution_count": 26,
   "metadata": {},
   "outputs": [
    {
     "data": {
      "text/plain": [
       "Timestamp('2017-07-31 00:00:00')"
      ]
     },
     "execution_count": 26,
     "metadata": {},
     "output_type": "execute_result"
    }
   ],
   "source": [
    "df['Date'].max()"
   ]
  },
  {
   "cell_type": "code",
   "execution_count": 27,
   "metadata": {},
   "outputs": [
    {
     "data": {
      "text/plain": [
       "pandas._libs.tslibs.timestamps.Timestamp"
      ]
     },
     "execution_count": 27,
     "metadata": {},
     "output_type": "execute_result"
    }
   ],
   "source": [
    "type(df['Date'][0])"
   ]
  },
  {
   "cell_type": "code",
   "execution_count": 28,
   "metadata": {},
   "outputs": [
    {
     "data": {
      "text/plain": [
       "Date          0\n",
       "Open          0\n",
       "High          0\n",
       "Low           0\n",
       "Close         0\n",
       "Volume        0\n",
       "Market Cap    0\n",
       "dtype: int64"
      ]
     },
     "execution_count": 28,
     "metadata": {},
     "output_type": "execute_result"
    }
   ],
   "source": [
    "df.isnull().sum()"
   ]
  },
  {
   "cell_type": "code",
   "execution_count": 29,
   "metadata": {},
   "outputs": [
    {
     "data": {
      "text/plain": [
       "0"
      ]
     },
     "execution_count": 29,
     "metadata": {},
     "output_type": "execute_result"
    }
   ],
   "source": [
    "df.duplicated().sum()"
   ]
  },
  {
   "cell_type": "code",
   "execution_count": 30,
   "metadata": {},
   "outputs": [
    {
     "data": {
      "text/html": [
       "<div>\n",
       "<style scoped>\n",
       "    .dataframe tbody tr th:only-of-type {\n",
       "        vertical-align: middle;\n",
       "    }\n",
       "\n",
       "    .dataframe tbody tr th {\n",
       "        vertical-align: top;\n",
       "    }\n",
       "\n",
       "    .dataframe thead th {\n",
       "        text-align: right;\n",
       "    }\n",
       "</style>\n",
       "<table border=\"1\" class=\"dataframe\">\n",
       "  <thead>\n",
       "    <tr style=\"text-align: right;\">\n",
       "      <th></th>\n",
       "      <th>Date</th>\n",
       "      <th>Open</th>\n",
       "      <th>High</th>\n",
       "      <th>Low</th>\n",
       "      <th>Close</th>\n",
       "      <th>Volume</th>\n",
       "      <th>Market Cap</th>\n",
       "    </tr>\n",
       "  </thead>\n",
       "  <tbody>\n",
       "    <tr>\n",
       "      <th>0</th>\n",
       "      <td>2017-07-31</td>\n",
       "      <td>2763.24</td>\n",
       "      <td>2889.62</td>\n",
       "      <td>2720.61</td>\n",
       "      <td>2875.34</td>\n",
       "      <td>860,575,000</td>\n",
       "      <td>45,535,800,000</td>\n",
       "    </tr>\n",
       "    <tr>\n",
       "      <th>1</th>\n",
       "      <td>2017-07-30</td>\n",
       "      <td>2724.39</td>\n",
       "      <td>2758.53</td>\n",
       "      <td>2644.85</td>\n",
       "      <td>2757.18</td>\n",
       "      <td>705,943,000</td>\n",
       "      <td>44,890,700,000</td>\n",
       "    </tr>\n",
       "    <tr>\n",
       "      <th>2</th>\n",
       "      <td>2017-07-29</td>\n",
       "      <td>2807.02</td>\n",
       "      <td>2808.76</td>\n",
       "      <td>2692.80</td>\n",
       "      <td>2726.45</td>\n",
       "      <td>803,746,000</td>\n",
       "      <td>46,246,700,000</td>\n",
       "    </tr>\n",
       "  </tbody>\n",
       "</table>\n",
       "</div>"
      ],
      "text/plain": [
       "        Date     Open     High      Low    Close       Volume      Market Cap\n",
       "0 2017-07-31  2763.24  2889.62  2720.61  2875.34  860,575,000  45,535,800,000\n",
       "1 2017-07-30  2724.39  2758.53  2644.85  2757.18  705,943,000  44,890,700,000\n",
       "2 2017-07-29  2807.02  2808.76  2692.80  2726.45  803,746,000  46,246,700,000"
      ]
     },
     "execution_count": 30,
     "metadata": {},
     "output_type": "execute_result"
    }
   ],
   "source": [
    "df.head(3)"
   ]
  },
  {
   "cell_type": "code",
   "execution_count": 31,
   "metadata": {},
   "outputs": [
    {
     "data": {
      "text/html": [
       "<div>\n",
       "<style scoped>\n",
       "    .dataframe tbody tr th:only-of-type {\n",
       "        vertical-align: middle;\n",
       "    }\n",
       "\n",
       "    .dataframe tbody tr th {\n",
       "        vertical-align: top;\n",
       "    }\n",
       "\n",
       "    .dataframe thead th {\n",
       "        text-align: right;\n",
       "    }\n",
       "</style>\n",
       "<table border=\"1\" class=\"dataframe\">\n",
       "  <thead>\n",
       "    <tr style=\"text-align: right;\">\n",
       "      <th></th>\n",
       "      <th>Date</th>\n",
       "      <th>Open</th>\n",
       "      <th>High</th>\n",
       "      <th>Low</th>\n",
       "      <th>Close</th>\n",
       "      <th>Volume</th>\n",
       "      <th>Market Cap</th>\n",
       "    </tr>\n",
       "  </thead>\n",
       "  <tbody>\n",
       "    <tr>\n",
       "      <th>1551</th>\n",
       "      <td>2013-05-02</td>\n",
       "      <td>116.38</td>\n",
       "      <td>125.60</td>\n",
       "      <td>92.28</td>\n",
       "      <td>105.21</td>\n",
       "      <td>-</td>\n",
       "      <td>1,292,190,000</td>\n",
       "    </tr>\n",
       "    <tr>\n",
       "      <th>1552</th>\n",
       "      <td>2013-05-01</td>\n",
       "      <td>139.00</td>\n",
       "      <td>139.89</td>\n",
       "      <td>107.72</td>\n",
       "      <td>116.99</td>\n",
       "      <td>-</td>\n",
       "      <td>1,542,820,000</td>\n",
       "    </tr>\n",
       "    <tr>\n",
       "      <th>1553</th>\n",
       "      <td>2013-04-30</td>\n",
       "      <td>144.00</td>\n",
       "      <td>146.93</td>\n",
       "      <td>134.05</td>\n",
       "      <td>139.00</td>\n",
       "      <td>-</td>\n",
       "      <td>1,597,780,000</td>\n",
       "    </tr>\n",
       "    <tr>\n",
       "      <th>1554</th>\n",
       "      <td>2013-04-29</td>\n",
       "      <td>134.44</td>\n",
       "      <td>147.49</td>\n",
       "      <td>134.00</td>\n",
       "      <td>144.54</td>\n",
       "      <td>-</td>\n",
       "      <td>1,491,160,000</td>\n",
       "    </tr>\n",
       "    <tr>\n",
       "      <th>1555</th>\n",
       "      <td>2013-04-28</td>\n",
       "      <td>135.30</td>\n",
       "      <td>135.98</td>\n",
       "      <td>132.10</td>\n",
       "      <td>134.21</td>\n",
       "      <td>-</td>\n",
       "      <td>1,500,520,000</td>\n",
       "    </tr>\n",
       "  </tbody>\n",
       "</table>\n",
       "</div>"
      ],
      "text/plain": [
       "           Date    Open    High     Low   Close Volume     Market Cap\n",
       "1551 2013-05-02  116.38  125.60   92.28  105.21      -  1,292,190,000\n",
       "1552 2013-05-01  139.00  139.89  107.72  116.99      -  1,542,820,000\n",
       "1553 2013-04-30  144.00  146.93  134.05  139.00      -  1,597,780,000\n",
       "1554 2013-04-29  134.44  147.49  134.00  144.54      -  1,491,160,000\n",
       "1555 2013-04-28  135.30  135.98  132.10  134.21      -  1,500,520,000"
      ]
     },
     "execution_count": 31,
     "metadata": {},
     "output_type": "execute_result"
    }
   ],
   "source": [
    "df.tail(5)"
   ]
  },
  {
   "cell_type": "code",
   "execution_count": 32,
   "metadata": {},
   "outputs": [],
   "source": [
    "data = df.sort_index(ascending = False).reset_index()"
   ]
  },
  {
   "cell_type": "code",
   "execution_count": 33,
   "metadata": {},
   "outputs": [
    {
     "data": {
      "text/html": [
       "<div>\n",
       "<style scoped>\n",
       "    .dataframe tbody tr th:only-of-type {\n",
       "        vertical-align: middle;\n",
       "    }\n",
       "\n",
       "    .dataframe tbody tr th {\n",
       "        vertical-align: top;\n",
       "    }\n",
       "\n",
       "    .dataframe thead th {\n",
       "        text-align: right;\n",
       "    }\n",
       "</style>\n",
       "<table border=\"1\" class=\"dataframe\">\n",
       "  <thead>\n",
       "    <tr style=\"text-align: right;\">\n",
       "      <th></th>\n",
       "      <th>index</th>\n",
       "      <th>Date</th>\n",
       "      <th>Open</th>\n",
       "      <th>High</th>\n",
       "      <th>Low</th>\n",
       "      <th>Close</th>\n",
       "      <th>Volume</th>\n",
       "      <th>Market Cap</th>\n",
       "    </tr>\n",
       "  </thead>\n",
       "  <tbody>\n",
       "    <tr>\n",
       "      <th>0</th>\n",
       "      <td>1555</td>\n",
       "      <td>2013-04-28</td>\n",
       "      <td>135.30</td>\n",
       "      <td>135.98</td>\n",
       "      <td>132.10</td>\n",
       "      <td>134.21</td>\n",
       "      <td>-</td>\n",
       "      <td>1,500,520,000</td>\n",
       "    </tr>\n",
       "    <tr>\n",
       "      <th>1</th>\n",
       "      <td>1554</td>\n",
       "      <td>2013-04-29</td>\n",
       "      <td>134.44</td>\n",
       "      <td>147.49</td>\n",
       "      <td>134.00</td>\n",
       "      <td>144.54</td>\n",
       "      <td>-</td>\n",
       "      <td>1,491,160,000</td>\n",
       "    </tr>\n",
       "    <tr>\n",
       "      <th>2</th>\n",
       "      <td>1553</td>\n",
       "      <td>2013-04-30</td>\n",
       "      <td>144.00</td>\n",
       "      <td>146.93</td>\n",
       "      <td>134.05</td>\n",
       "      <td>139.00</td>\n",
       "      <td>-</td>\n",
       "      <td>1,597,780,000</td>\n",
       "    </tr>\n",
       "    <tr>\n",
       "      <th>3</th>\n",
       "      <td>1552</td>\n",
       "      <td>2013-05-01</td>\n",
       "      <td>139.00</td>\n",
       "      <td>139.89</td>\n",
       "      <td>107.72</td>\n",
       "      <td>116.99</td>\n",
       "      <td>-</td>\n",
       "      <td>1,542,820,000</td>\n",
       "    </tr>\n",
       "    <tr>\n",
       "      <th>4</th>\n",
       "      <td>1551</td>\n",
       "      <td>2013-05-02</td>\n",
       "      <td>116.38</td>\n",
       "      <td>125.60</td>\n",
       "      <td>92.28</td>\n",
       "      <td>105.21</td>\n",
       "      <td>-</td>\n",
       "      <td>1,292,190,000</td>\n",
       "    </tr>\n",
       "    <tr>\n",
       "      <th>...</th>\n",
       "      <td>...</td>\n",
       "      <td>...</td>\n",
       "      <td>...</td>\n",
       "      <td>...</td>\n",
       "      <td>...</td>\n",
       "      <td>...</td>\n",
       "      <td>...</td>\n",
       "      <td>...</td>\n",
       "    </tr>\n",
       "    <tr>\n",
       "      <th>1551</th>\n",
       "      <td>4</td>\n",
       "      <td>2017-07-27</td>\n",
       "      <td>2538.71</td>\n",
       "      <td>2693.32</td>\n",
       "      <td>2529.34</td>\n",
       "      <td>2671.78</td>\n",
       "      <td>789,104,000</td>\n",
       "      <td>41,816,500,000</td>\n",
       "    </tr>\n",
       "    <tr>\n",
       "      <th>1552</th>\n",
       "      <td>3</td>\n",
       "      <td>2017-07-28</td>\n",
       "      <td>2679.73</td>\n",
       "      <td>2897.45</td>\n",
       "      <td>2679.73</td>\n",
       "      <td>2809.01</td>\n",
       "      <td>1,380,100,000</td>\n",
       "      <td>44,144,400,000</td>\n",
       "    </tr>\n",
       "    <tr>\n",
       "      <th>1553</th>\n",
       "      <td>2</td>\n",
       "      <td>2017-07-29</td>\n",
       "      <td>2807.02</td>\n",
       "      <td>2808.76</td>\n",
       "      <td>2692.80</td>\n",
       "      <td>2726.45</td>\n",
       "      <td>803,746,000</td>\n",
       "      <td>46,246,700,000</td>\n",
       "    </tr>\n",
       "    <tr>\n",
       "      <th>1554</th>\n",
       "      <td>1</td>\n",
       "      <td>2017-07-30</td>\n",
       "      <td>2724.39</td>\n",
       "      <td>2758.53</td>\n",
       "      <td>2644.85</td>\n",
       "      <td>2757.18</td>\n",
       "      <td>705,943,000</td>\n",
       "      <td>44,890,700,000</td>\n",
       "    </tr>\n",
       "    <tr>\n",
       "      <th>1555</th>\n",
       "      <td>0</td>\n",
       "      <td>2017-07-31</td>\n",
       "      <td>2763.24</td>\n",
       "      <td>2889.62</td>\n",
       "      <td>2720.61</td>\n",
       "      <td>2875.34</td>\n",
       "      <td>860,575,000</td>\n",
       "      <td>45,535,800,000</td>\n",
       "    </tr>\n",
       "  </tbody>\n",
       "</table>\n",
       "<p>1556 rows × 8 columns</p>\n",
       "</div>"
      ],
      "text/plain": [
       "      index       Date     Open     High      Low    Close         Volume  \\\n",
       "0      1555 2013-04-28   135.30   135.98   132.10   134.21              -   \n",
       "1      1554 2013-04-29   134.44   147.49   134.00   144.54              -   \n",
       "2      1553 2013-04-30   144.00   146.93   134.05   139.00              -   \n",
       "3      1552 2013-05-01   139.00   139.89   107.72   116.99              -   \n",
       "4      1551 2013-05-02   116.38   125.60    92.28   105.21              -   \n",
       "...     ...        ...      ...      ...      ...      ...            ...   \n",
       "1551      4 2017-07-27  2538.71  2693.32  2529.34  2671.78    789,104,000   \n",
       "1552      3 2017-07-28  2679.73  2897.45  2679.73  2809.01  1,380,100,000   \n",
       "1553      2 2017-07-29  2807.02  2808.76  2692.80  2726.45    803,746,000   \n",
       "1554      1 2017-07-30  2724.39  2758.53  2644.85  2757.18    705,943,000   \n",
       "1555      0 2017-07-31  2763.24  2889.62  2720.61  2875.34    860,575,000   \n",
       "\n",
       "          Market Cap  \n",
       "0      1,500,520,000  \n",
       "1      1,491,160,000  \n",
       "2      1,597,780,000  \n",
       "3      1,542,820,000  \n",
       "4      1,292,190,000  \n",
       "...              ...  \n",
       "1551  41,816,500,000  \n",
       "1552  44,144,400,000  \n",
       "1553  46,246,700,000  \n",
       "1554  44,890,700,000  \n",
       "1555  45,535,800,000  \n",
       "\n",
       "[1556 rows x 8 columns]"
      ]
     },
     "execution_count": 33,
     "metadata": {},
     "output_type": "execute_result"
    }
   ],
   "source": [
    "data"
   ]
  },
  {
   "cell_type": "code",
   "execution_count": 34,
   "metadata": {},
   "outputs": [],
   "source": [
    "data.drop('index' , axis=1 ,inplace = True)"
   ]
  },
  {
   "cell_type": "code",
   "execution_count": 35,
   "metadata": {},
   "outputs": [
    {
     "data": {
      "text/html": [
       "<div>\n",
       "<style scoped>\n",
       "    .dataframe tbody tr th:only-of-type {\n",
       "        vertical-align: middle;\n",
       "    }\n",
       "\n",
       "    .dataframe tbody tr th {\n",
       "        vertical-align: top;\n",
       "    }\n",
       "\n",
       "    .dataframe thead th {\n",
       "        text-align: right;\n",
       "    }\n",
       "</style>\n",
       "<table border=\"1\" class=\"dataframe\">\n",
       "  <thead>\n",
       "    <tr style=\"text-align: right;\">\n",
       "      <th></th>\n",
       "      <th>Date</th>\n",
       "      <th>Open</th>\n",
       "      <th>High</th>\n",
       "      <th>Low</th>\n",
       "      <th>Close</th>\n",
       "      <th>Volume</th>\n",
       "      <th>Market Cap</th>\n",
       "    </tr>\n",
       "  </thead>\n",
       "  <tbody>\n",
       "    <tr>\n",
       "      <th>0</th>\n",
       "      <td>2013-04-28</td>\n",
       "      <td>135.30</td>\n",
       "      <td>135.98</td>\n",
       "      <td>132.10</td>\n",
       "      <td>134.21</td>\n",
       "      <td>-</td>\n",
       "      <td>1,500,520,000</td>\n",
       "    </tr>\n",
       "    <tr>\n",
       "      <th>1</th>\n",
       "      <td>2013-04-29</td>\n",
       "      <td>134.44</td>\n",
       "      <td>147.49</td>\n",
       "      <td>134.00</td>\n",
       "      <td>144.54</td>\n",
       "      <td>-</td>\n",
       "      <td>1,491,160,000</td>\n",
       "    </tr>\n",
       "    <tr>\n",
       "      <th>2</th>\n",
       "      <td>2013-04-30</td>\n",
       "      <td>144.00</td>\n",
       "      <td>146.93</td>\n",
       "      <td>134.05</td>\n",
       "      <td>139.00</td>\n",
       "      <td>-</td>\n",
       "      <td>1,597,780,000</td>\n",
       "    </tr>\n",
       "    <tr>\n",
       "      <th>3</th>\n",
       "      <td>2013-05-01</td>\n",
       "      <td>139.00</td>\n",
       "      <td>139.89</td>\n",
       "      <td>107.72</td>\n",
       "      <td>116.99</td>\n",
       "      <td>-</td>\n",
       "      <td>1,542,820,000</td>\n",
       "    </tr>\n",
       "    <tr>\n",
       "      <th>4</th>\n",
       "      <td>2013-05-02</td>\n",
       "      <td>116.38</td>\n",
       "      <td>125.60</td>\n",
       "      <td>92.28</td>\n",
       "      <td>105.21</td>\n",
       "      <td>-</td>\n",
       "      <td>1,292,190,000</td>\n",
       "    </tr>\n",
       "    <tr>\n",
       "      <th>...</th>\n",
       "      <td>...</td>\n",
       "      <td>...</td>\n",
       "      <td>...</td>\n",
       "      <td>...</td>\n",
       "      <td>...</td>\n",
       "      <td>...</td>\n",
       "      <td>...</td>\n",
       "    </tr>\n",
       "    <tr>\n",
       "      <th>1551</th>\n",
       "      <td>2017-07-27</td>\n",
       "      <td>2538.71</td>\n",
       "      <td>2693.32</td>\n",
       "      <td>2529.34</td>\n",
       "      <td>2671.78</td>\n",
       "      <td>789,104,000</td>\n",
       "      <td>41,816,500,000</td>\n",
       "    </tr>\n",
       "    <tr>\n",
       "      <th>1552</th>\n",
       "      <td>2017-07-28</td>\n",
       "      <td>2679.73</td>\n",
       "      <td>2897.45</td>\n",
       "      <td>2679.73</td>\n",
       "      <td>2809.01</td>\n",
       "      <td>1,380,100,000</td>\n",
       "      <td>44,144,400,000</td>\n",
       "    </tr>\n",
       "    <tr>\n",
       "      <th>1553</th>\n",
       "      <td>2017-07-29</td>\n",
       "      <td>2807.02</td>\n",
       "      <td>2808.76</td>\n",
       "      <td>2692.80</td>\n",
       "      <td>2726.45</td>\n",
       "      <td>803,746,000</td>\n",
       "      <td>46,246,700,000</td>\n",
       "    </tr>\n",
       "    <tr>\n",
       "      <th>1554</th>\n",
       "      <td>2017-07-30</td>\n",
       "      <td>2724.39</td>\n",
       "      <td>2758.53</td>\n",
       "      <td>2644.85</td>\n",
       "      <td>2757.18</td>\n",
       "      <td>705,943,000</td>\n",
       "      <td>44,890,700,000</td>\n",
       "    </tr>\n",
       "    <tr>\n",
       "      <th>1555</th>\n",
       "      <td>2017-07-31</td>\n",
       "      <td>2763.24</td>\n",
       "      <td>2889.62</td>\n",
       "      <td>2720.61</td>\n",
       "      <td>2875.34</td>\n",
       "      <td>860,575,000</td>\n",
       "      <td>45,535,800,000</td>\n",
       "    </tr>\n",
       "  </tbody>\n",
       "</table>\n",
       "<p>1556 rows × 7 columns</p>\n",
       "</div>"
      ],
      "text/plain": [
       "           Date     Open     High      Low    Close         Volume  \\\n",
       "0    2013-04-28   135.30   135.98   132.10   134.21              -   \n",
       "1    2013-04-29   134.44   147.49   134.00   144.54              -   \n",
       "2    2013-04-30   144.00   146.93   134.05   139.00              -   \n",
       "3    2013-05-01   139.00   139.89   107.72   116.99              -   \n",
       "4    2013-05-02   116.38   125.60    92.28   105.21              -   \n",
       "...         ...      ...      ...      ...      ...            ...   \n",
       "1551 2017-07-27  2538.71  2693.32  2529.34  2671.78    789,104,000   \n",
       "1552 2017-07-28  2679.73  2897.45  2679.73  2809.01  1,380,100,000   \n",
       "1553 2017-07-29  2807.02  2808.76  2692.80  2726.45    803,746,000   \n",
       "1554 2017-07-30  2724.39  2758.53  2644.85  2757.18    705,943,000   \n",
       "1555 2017-07-31  2763.24  2889.62  2720.61  2875.34    860,575,000   \n",
       "\n",
       "          Market Cap  \n",
       "0      1,500,520,000  \n",
       "1      1,491,160,000  \n",
       "2      1,597,780,000  \n",
       "3      1,542,820,000  \n",
       "4      1,292,190,000  \n",
       "...              ...  \n",
       "1551  41,816,500,000  \n",
       "1552  44,144,400,000  \n",
       "1553  46,246,700,000  \n",
       "1554  44,890,700,000  \n",
       "1555  45,535,800,000  \n",
       "\n",
       "[1556 rows x 7 columns]"
      ]
     },
     "execution_count": 35,
     "metadata": {},
     "output_type": "execute_result"
    }
   ],
   "source": [
    "data"
   ]
  },
  {
   "cell_type": "code",
   "execution_count": 36,
   "metadata": {},
   "outputs": [
    {
     "data": {
      "text/plain": [
       "Index(['Date', 'Open', 'High', 'Low', 'Close', 'Volume', 'Market Cap'], dtype='object')"
      ]
     },
     "execution_count": 36,
     "metadata": {},
     "output_type": "execute_result"
    }
   ],
   "source": [
    "data.columns"
   ]
  },
  {
   "cell_type": "code",
   "execution_count": 37,
   "metadata": {},
   "outputs": [
    {
     "data": {
      "image/png": "[encoded data removed]",
      "text/plain": [
       "<Figure size 1440x864 with 4 Axes>"
      ]
     },
     "metadata": {
      "needs_background": "light"
     },
     "output_type": "display_data"
    }
   ],
   "source": [
    "plt.figure(figsize=(20,12))\n",
    "\n",
    "for index , col in enumerate(['Open', 'High', 'Low', 'Close'] , 1):\n",
    "    plt.subplot(2,2,index)\n",
    "    plt.plot(df['Date'] , df[col])\n",
    "    plt.title(col)"
   ]
  },
  {
   "cell_type": "code",
   "execution_count": 38,
   "metadata": {},
   "outputs": [
    {
     "data": {
      "text/plain": [
       "(1556, 7)"
      ]
     },
     "execution_count": 38,
     "metadata": {},
     "output_type": "execute_result"
    }
   ],
   "source": [
    "data.shape"
   ]
  },
  {
   "cell_type": "code",
   "execution_count": 39,
   "metadata": {},
   "outputs": [],
   "source": [
    "bitcoin_sample = data[0:50]"
   ]
  },
  {
   "cell_type": "code",
   "execution_count": 41,
   "metadata": {},
   "outputs": [
    {
     "name": "stdout",
     "output_type": "stream",
     "text": [
      "Requirement already satisfied: chart_studio in c:\\users\\ishita swami\\anaconda3\\lib\\site-packages (1.1.0)\n",
      "Requirement already satisfied: plotly in c:\\users\\ishita swami\\anaconda3\\lib\\site-packages (from chart_studio) (5.15.0)\n",
      "Requirement already satisfied: retrying>=1.3.3 in c:\\users\\ishita swami\\anaconda3\\lib\\site-packages (from chart_studio) (1.3.4)\n",
      "Requirement already satisfied: requests in c:\\users\\ishita swami\\anaconda3\\lib\\site-packages (from chart_studio) (2.24.0)\n",
      "Requirement already satisfied: six in c:\\users\\ishita swami\\anaconda3\\lib\\site-packages (from chart_studio) (1.15.0)\n",
      "Requirement already satisfied: tenacity>=6.2.0 in c:\\users\\ishita swami\\anaconda3\\lib\\site-packages (from plotly->chart_studio) (8.2.2)\n",
      "Requirement already satisfied: packaging in c:\\users\\ishita swami\\anaconda3\\lib\\site-packages (from plotly->chart_studio) (20.4)\n",
      "Requirement already satisfied: idna<3,>=2.5 in c:\\users\\ishita swami\\anaconda3\\lib\\site-packages (from requests->chart_studio) (2.10)\n",
      "Requirement already satisfied: urllib3!=1.25.0,!=1.25.1,<1.26,>=1.21.1 in c:\\users\\ishita swami\\anaconda3\\lib\\site-packages (from requests->chart_studio) (1.25.9)\n",
      "Requirement already satisfied: certifi>=2017.4.17 in c:\\users\\ishita swami\\anaconda3\\lib\\site-packages (from requests->chart_studio) (2020.6.20)\n",
      "Requirement already satisfied: chardet<4,>=3.0.2 in c:\\users\\ishita swami\\anaconda3\\lib\\site-packages (from requests->chart_studio) (3.0.4)\n",
      "Requirement already satisfied: pyparsing>=2.0.2 in c:\\users\\ishita swami\\anaconda3\\lib\\site-packages (from packaging->plotly->chart_studio) (2.4.7)\n"
     ]
    },
    {
     "name": "stderr",
     "output_type": "stream",
     "text": [
      "WARNING: There was an error checking the latest version of pip.\n"
     ]
    },
    {
     "name": "stdout",
     "output_type": "stream",
     "text": [
      "Requirement already satisfied: plotly in c:\\users\\ishita swami\\anaconda3\\lib\\site-packages (5.15.0)\n",
      "Requirement already satisfied: tenacity>=6.2.0 in c:\\users\\ishita swami\\anaconda3\\lib\\site-packages (from plotly) (8.2.2)\n",
      "Requirement already satisfied: packaging in c:\\users\\ishita swami\\anaconda3\\lib\\site-packages (from plotly) (20.4)\n",
      "Requirement already satisfied: pyparsing>=2.0.2 in c:\\users\\ishita swami\\anaconda3\\lib\\site-packages (from packaging->plotly) (2.4.7)\n",
      "Requirement already satisfied: six in c:\\users\\ishita swami\\anaconda3\\lib\\site-packages (from packaging->plotly) (1.15.0)\n"
     ]
    },
    {
     "name": "stderr",
     "output_type": "stream",
     "text": [
      "WARNING: There was an error checking the latest version of pip.\n"
     ]
    }
   ],
   "source": [
    "!pip3 install chart_studio\n",
    "!pip3 install plotly"
   ]
  },
  {
   "cell_type": "code",
   "execution_count": 42,
   "metadata": {},
   "outputs": [],
   "source": [
    "import chart_studio.plotly as py\n",
    "\n",
    "import plotly.graph_objs as go\n",
    "\n",
    "import plotly.express as px\n",
    "\n",
    "from plotly.offline import download_plotlyjs , init_notebook_mode , plot , iplot"
   ]
  },
  {
   "cell_type": "code",
   "execution_count": 44,
   "metadata": {},
   "outputs": [
    {
     "data": {
      "text/html": [
       "        <script type=\"text/javascript\">\n",
       "        window.PlotlyConfig = {MathJaxConfig: 'local'};\n",
       "        if (window.MathJax && window.MathJax.Hub && window.MathJax.Hub.Config) {window.MathJax.Hub.Config({SVG: {font: \"STIX-Web\"}});}\n",
       "        if (typeof require !== 'undefined') {\n",
       "        require.undef(\"plotly\");\n",
       "        requirejs.config({\n",
       "            paths: {\n",
       "                'plotly': ['https://cdn.plot.ly/plotly-2.24.1.min']\n",
       "            }\n",
       "        });\n",
       "        require(['plotly'], function(Plotly) {\n",
       "            window._Plotly = Plotly;\n",
       "        });\n",
       "        }\n",
       "        </script>\n",
       "        "
      ]
     },
     "metadata": {},
     "output_type": "display_data"
    }
   ],
   "source": [
    "init_notebook_mode(connected = True)"
   ]
  },
  {
   "cell_type": "code",
   "execution_count": 45,
   "metadata": {},
   "outputs": [],
   "source": [
    "trace = go.Candlestick(x=bitcoin_sample['Date'],high = bitcoin_sample['High'],close = bitcoin_sample['Close'],low = bitcoin_sample['Low'])"
   ]
  },
  {
   "cell_type": "code",
   "execution_count": 46,
   "metadata": {},
   "outputs": [],
   "source": [
    "candle_data = [trace]\n",
    "layout = {\n",
    "    'title':'Bitcoin Historical Price' , \n",
    "    'xaxis':{'title':'Date'}\n",
    "}"
   ]
  },
  {
   "cell_type": "code",
   "execution_count": 47,
   "metadata": {},
   "outputs": [
    {
     "data": {
      "application/vnd.plotly.v1+json": {
       "config": {
        "plotlyServerURL": "https://plot.ly"
       },
       "data": [
        {
         "close": [
          134.21,
          144.54,
          139,
          116.99,
          105.21,
          97.75,
          112.5,
          115.91,
          112.3,
          111.5,
          113.57,
          112.67,
          117.2,
          115.24,
          115,
          117.98,
          111.5,
          114.22,
          118.76,
          123.02,
          123.5,
          121.99,
          122,
          122.88,
          123.89,
          126.7,
          133.2,
          131.98,
          133.48,
          129.75,
          129,
          132.3,
          128.8,
          129,
          129.3,
          122.29,
          122.22,
          121.42,
          121.65,
          118,
          111.5,
          108.3,
          100,
          106.35,
          108.9,
          108.15,
          104,
          99.98,
          99.99,
          99.51
         ],
         "high": [
          135.98,
          147.49,
          146.93,
          139.89,
          125.6,
          108.13,
          115,
          118.8,
          124.66,
          113.44,
          115.78,
          113.46,
          122,
          118.68,
          117.45,
          118.7,
          119.8,
          115.81,
          118.76,
          125.3,
          125.25,
          124.5,
          123.62,
          123,
          124,
          126.93,
          133.85,
          133.22,
          136,
          135.47,
          130.58,
          132.59,
          132.25,
          129.9,
          129.78,
          129.4,
          122.5,
          123.84,
          123.47,
          123.1,
          119,
          111.42,
          108.99,
          110.1,
          109.6,
          111.79,
          110.3,
          104.7,
          103.7,
          101.6
         ],
         "low": [
          132.1,
          134,
          134.05,
          107.72,
          92.28,
          79.1,
          92.5,
          107.14,
          106.64,
          97.7,
          109.6,
          109.26,
          111.55,
          113.01,
          113.44,
          114.5,
          110.25,
          103.5,
          112.2,
          116.57,
          122.3,
          119.57,
          120.12,
          121.21,
          122,
          123.1,
          125.72,
          128.9,
          130.62,
          124.7,
          125.6,
          127.66,
          127,
          126.4,
          127.2,
          115.05,
          116,
          119.1,
          119.9,
          117.25,
          106.42,
          107.3,
          88.5,
          95,
          104,
          106.73,
          100.53,
          98,
          98,
          98.95
         ],
         "type": "candlestick",
         "x": [
          "2013-04-28T00:00:00",
          "2013-04-29T00:00:00",
          "2013-04-30T00:00:00",
          "2013-05-01T00:00:00",
          "2013-05-02T00:00:00",
          "2013-05-03T00:00:00",
          "2013-05-04T00:00:00",
          "2013-05-05T00:00:00",
          "2013-05-06T00:00:00",
          "2013-05-07T00:00:00",
          "2013-05-08T00:00:00",
          "2013-05-09T00:00:00",
          "2013-05-10T00:00:00",
          "2013-05-11T00:00:00",
          "2013-05-12T00:00:00",
          "2013-05-13T00:00:00",
          "2013-05-14T00:00:00",
          "2013-05-15T00:00:00",
          "2013-05-16T00:00:00",
          "2013-05-17T00:00:00",
          "2013-05-18T00:00:00",
          "2013-05-19T00:00:00",
          "2013-05-20T00:00:00",
          "2013-05-21T00:00:00",
          "2013-05-22T00:00:00",
          "2013-05-23T00:00:00",
          "2013-05-24T00:00:00",
          "2013-05-25T00:00:00",
          "2013-05-26T00:00:00",
          "2013-05-27T00:00:00",
          "2013-05-28T00:00:00",
          "2013-05-29T00:00:00",
          "2013-05-30T00:00:00",
          "2013-05-31T00:00:00",
          "2013-06-01T00:00:00",
          "2013-06-02T00:00:00",
          "2013-06-03T00:00:00",
          "2013-06-04T00:00:00",
          "2013-06-05T00:00:00",
          "2013-06-06T00:00:00",
          "2013-06-07T00:00:00",
          "2013-06-08T00:00:00",
          "2013-06-09T00:00:00",
          "2013-06-10T00:00:00",
          "2013-06-11T00:00:00",
          "2013-06-12T00:00:00",
          "2013-06-13T00:00:00",
          "2013-06-14T00:00:00",
          "2013-06-15T00:00:00",
          "2013-06-16T00:00:00"
         ]
        }
       ],
       "layout": {
        "template": {
         "data": {
          "bar": [
           {
            "error_x": {
             "color": "#2a3f5f"
            },
            "error_y": {
             "color": "#2a3f5f"
            },
            "marker": {
             "line": {
              "color": "#E5ECF6",
              "width": 0.5
             },
             "pattern": {
              "fillmode": "overlay",
              "size": 10,
              "solidity": 0.2
             }
            },
            "type": "bar"
           }
          ],
          "barpolar": [
           {
            "marker": {
             "line": {
              "color": "#E5ECF6",
              "width": 0.5
             },
             "pattern": {
              "fillmode": "overlay",
              "size": 10,
              "solidity": 0.2
             }
            },
            "type": "barpolar"
           }
          ],
          "carpet": [
           {
            "aaxis": {
             "endlinecolor": "#2a3f5f",
             "gridcolor": "white",
             "linecolor": "white",
             "minorgridcolor": "white",
             "startlinecolor": "#2a3f5f"
            },
            "baxis": {
             "endlinecolor": "#2a3f5f",
             "gridcolor": "white",
             "linecolor": "white",
             "minorgridcolor": "white",
             "startlinecolor": "#2a3f5f"
            },
            "type": "carpet"
           }
          ],
          "choropleth": [
           {
            "colorbar": {
             "outlinewidth": 0,
             "ticks": ""
            },
            "type": "choropleth"
           }
          ],
          "contour": [
           {
            "colorbar": {
             "outlinewidth": 0,
             "ticks": ""
            },
            "colorscale": [
             [
              0,
              "#0d0887"
             ],
             [
              0.1111111111111111,
              "#46039f"
             ],
             [
              0.2222222222222222,
              "#7201a8"
             ],
             [
              0.3333333333333333,
              "#9c179e"
             ],
             [
              0.4444444444444444,
              "#bd3786"
             ],
             [
              0.5555555555555556,
              "#d8576b"
             ],
             [
              0.6666666666666666,
              "#ed7953"
             ],
             [
              0.7777777777777778,
              "#fb9f3a"
             ],
             [
              0.8888888888888888,
              "#fdca26"
             ],
             [
              1,
              "#f0f921"
             ]
            ],
            "type": "contour"
           }
          ],
          "contourcarpet": [
           {
            "colorbar": {
             "outlinewidth": 0,
             "ticks": ""
            },
            "type": "contourcarpet"
           }
          ],
          "heatmap": [
           {
            "colorbar": {
             "outlinewidth": 0,
             "ticks": ""
            },
            "colorscale": [
             [
              0,
              "#0d0887"
             ],
             [
              0.1111111111111111,
              "#46039f"
             ],
             [
              0.2222222222222222,
              "#7201a8"
             ],
             [
              0.3333333333333333,
              "#9c179e"
             ],
             [
              0.4444444444444444,
              "#bd3786"
             ],
             [
              0.5555555555555556,
              "#d8576b"
             ],
             [
              0.6666666666666666,
              "#ed7953"
             ],
             [
              0.7777777777777778,
              "#fb9f3a"
             ],
             [
              0.8888888888888888,
              "#fdca26"
             ],
             [
              1,
              "#f0f921"
             ]
            ],
            "type": "heatmap"
           }
          ],
          "heatmapgl": [
           {
            "colorbar": {
             "outlinewidth": 0,
             "ticks": ""
            },
            "colorscale": [
             [
              0,
              "#0d0887"
             ],
             [
              0.1111111111111111,
              "#46039f"
             ],
             [
              0.2222222222222222,
              "#7201a8"
             ],
             [
              0.3333333333333333,
              "#9c179e"
             ],
             [
              0.4444444444444444,
              "#bd3786"
             ],
             [
              0.5555555555555556,
              "#d8576b"
             ],
             [
              0.6666666666666666,
              "#ed7953"
             ],
             [
              0.7777777777777778,
              "#fb9f3a"
             ],
             [
              0.8888888888888888,
              "#fdca26"
             ],
             [
              1,
              "#f0f921"
             ]
            ],
            "type": "heatmapgl"
           }
          ],
          "histogram": [
           {
            "marker": {
             "pattern": {
              "fillmode": "overlay",
              "size": 10,
              "solidity": 0.2
             }
            },
            "type": "histogram"
           }
          ],
          "histogram2d": [
           {
            "colorbar": {
             "outlinewidth": 0,
             "ticks": ""
            },
            "colorscale": [
             [
              0,
              "#0d0887"
             ],
             [
              0.1111111111111111,
              "#46039f"
             ],
             [
              0.2222222222222222,
              "#7201a8"
             ],
             [
              0.3333333333333333,
              "#9c179e"
             ],
             [
              0.4444444444444444,
              "#bd3786"
             ],
             [
              0.5555555555555556,
              "#d8576b"
             ],
             [
              0.6666666666666666,
              "#ed7953"
             ],
             [
              0.7777777777777778,
              "#fb9f3a"
             ],
             [
              0.8888888888888888,
              "#fdca26"
             ],
             [
              1,
              "#f0f921"
             ]
            ],
            "type": "histogram2d"
           }
          ],
          "histogram2dcontour": [
           {
            "colorbar": {
             "outlinewidth": 0,
             "ticks": ""
            },
            "colorscale": [
             [
              0,
              "#0d0887"
             ],
             [
              0.1111111111111111,
              "#46039f"
             ],
             [
              0.2222222222222222,
              "#7201a8"
             ],
             [
              0.3333333333333333,
              "#9c179e"
             ],
             [
              0.4444444444444444,
              "#bd3786"
             ],
             [
              0.5555555555555556,
              "#d8576b"
             ],
             [
              0.6666666666666666,
              "#ed7953"
             ],
             [
              0.7777777777777778,
              "#fb9f3a"
             ],
             [
              0.8888888888888888,
              "#fdca26"
             ],
             [
              1,
              "#f0f921"
             ]
            ],
            "type": "histogram2dcontour"
           }
          ],
          "mesh3d": [
           {
            "colorbar": {
             "outlinewidth": 0,
             "ticks": ""
            },
            "type": "mesh3d"
           }
          ],
          "parcoords": [
           {
            "line": {
             "colorbar": {
              "outlinewidth": 0,
              "ticks": ""
             }
            },
            "type": "parcoords"
           }
          ],
          "pie": [
           {
            "automargin": true,
            "type": "pie"
           }
          ],
          "scatter": [
           {
            "fillpattern": {
             "fillmode": "overlay",
             "size": 10,
             "solidity": 0.2
            },
            "type": "scatter"
           }
          ],
          "scatter3d": [
           {
            "line": {
             "colorbar": {
              "outlinewidth": 0,
              "ticks": ""
             }
            },
            "marker": {
             "colorbar": {
              "outlinewidth": 0,
              "ticks": ""
             }
            },
            "type": "scatter3d"
           }
          ],
          "scattercarpet": [
           {
            "marker": {
             "colorbar": {
              "outlinewidth": 0,
              "ticks": ""
             }
            },
            "type": "scattercarpet"
           }
          ],
          "scattergeo": [
           {
            "marker": {
             "colorbar": {
              "outlinewidth": 0,
              "ticks": ""
             }
            },
            "type": "scattergeo"
           }
          ],
          "scattergl": [
           {
            "marker": {
             "colorbar": {
              "outlinewidth": 0,
              "ticks": ""
             }
            },
            "type": "scattergl"
           }
          ],
          "scattermapbox": [
           {
            "marker": {
             "colorbar": {
              "outlinewidth": 0,
              "ticks": ""
             }
            },
            "type": "scattermapbox"
           }
          ],
          "scatterpolar": [
           {
            "marker": {
             "colorbar": {
              "outlinewidth": 0,
              "ticks": ""
             }
            },
            "type": "scatterpolar"
           }
          ],
          "scatterpolargl": [
           {
            "marker": {
             "colorbar": {
              "outlinewidth": 0,
              "ticks": ""
             }
            },
            "type": "scatterpolargl"
           }
          ],
          "scatterternary": [
           {
            "marker": {
             "colorbar": {
              "outlinewidth": 0,
              "ticks": ""
             }
            },
            "type": "scatterternary"
           }
          ],
          "surface": [
           {
            "colorbar": {
             "outlinewidth": 0,
             "ticks": ""
            },
            "colorscale": [
             [
              0,
              "#0d0887"
             ],
             [
              0.1111111111111111,
              "#46039f"
             ],
             [
              0.2222222222222222,
              "#7201a8"
             ],
             [
              0.3333333333333333,
              "#9c179e"
             ],
             [
              0.4444444444444444,
              "#bd3786"
             ],
             [
              0.5555555555555556,
              "#d8576b"
             ],
             [
              0.6666666666666666,
              "#ed7953"
             ],
             [
              0.7777777777777778,
              "#fb9f3a"
             ],
             [
              0.8888888888888888,
              "#fdca26"
             ],
             [
              1,
              "#f0f921"
             ]
            ],
            "type": "surface"
           }
          ],
          "table": [
           {
            "cells": {
             "fill": {
              "color": "#EBF0F8"
             },
             "line": {
              "color": "white"
             }
            },
            "header": {
             "fill": {
              "color": "#C8D4E3"
             },
             "line": {
              "color": "white"
             }
            },
            "type": "table"
           }
          ]
         },
         "layout": {
          "annotationdefaults": {
           "arrowcolor": "#2a3f5f",
           "arrowhead": 0,
           "arrowwidth": 1
          },
          "autotypenumbers": "strict",
          "coloraxis": {
           "colorbar": {
            "outlinewidth": 0,
            "ticks": ""
           }
          },
          "colorscale": {
           "diverging": [
            [
             0,
             "#8e0152"
            ],
            [
             0.1,
             "#c51b7d"
            ],
            [
             0.2,
             "#de77ae"
            ],
            [
             0.3,
             "#f1b6da"
            ],
            [
             0.4,
             "#fde0ef"
            ],
            [
             0.5,
             "#f7f7f7"
            ],
            [
             0.6,
             "#e6f5d0"
            ],
            [
             0.7,
             "#b8e186"
            ],
            [
             0.8,
             "#7fbc41"
            ],
            [
             0.9,
             "#4d9221"
            ],
            [
             1,
             "#276419"
            ]
           ],
           "sequential": [
            [
             0,
             "#0d0887"
            ],
            [
             0.1111111111111111,
             "#46039f"
            ],
            [
             0.2222222222222222,
             "#7201a8"
            ],
            [
             0.3333333333333333,
             "#9c179e"
            ],
            [
             0.4444444444444444,
             "#bd3786"
            ],
            [
             0.5555555555555556,
             "#d8576b"
            ],
            [
             0.6666666666666666,
             "#ed7953"
            ],
            [
             0.7777777777777778,
             "#fb9f3a"
            ],
            [
             0.8888888888888888,
             "#fdca26"
            ],
            [
             1,
             "#f0f921"
            ]
           ],
           "sequentialminus": [
            [
             0,
             "#0d0887"
            ],
            [
             0.1111111111111111,
             "#46039f"
            ],
            [
             0.2222222222222222,
             "#7201a8"
            ],
            [
             0.3333333333333333,
             "#9c179e"
            ],
            [
             0.4444444444444444,
             "#bd3786"
            ],
            [
             0.5555555555555556,
             "#d8576b"
            ],
            [
             0.6666666666666666,
             "#ed7953"
            ],
            [
             0.7777777777777778,
             "#fb9f3a"
            ],
            [
             0.8888888888888888,
             "#fdca26"
            ],
            [
             1,
             "#f0f921"
            ]
           ]
          },
          "colorway": [
           "#636efa",
           "#EF553B",
           "#00cc96",
           "#ab63fa",
           "#FFA15A",
           "#19d3f3",
           "#FF6692",
           "#B6E880",
           "#FF97FF",
           "#FECB52"
          ],
          "font": {
           "color": "#2a3f5f"
          },
          "geo": {
           "bgcolor": "white",
           "lakecolor": "white",
           "landcolor": "#E5ECF6",
           "showlakes": true,
           "showland": true,
           "subunitcolor": "white"
          },
          "hoverlabel": {
           "align": "left"
          },
          "hovermode": "closest",
          "mapbox": {
           "style": "light"
          },
          "paper_bgcolor": "white",
          "plot_bgcolor": "#E5ECF6",
          "polar": {
           "angularaxis": {
            "gridcolor": "white",
            "linecolor": "white",
            "ticks": ""
           },
           "bgcolor": "#E5ECF6",
           "radialaxis": {
            "gridcolor": "white",
            "linecolor": "white",
            "ticks": ""
           }
          },
          "scene": {
           "xaxis": {
            "backgroundcolor": "#E5ECF6",
            "gridcolor": "white",
            "gridwidth": 2,
            "linecolor": "white",
            "showbackground": true,
            "ticks": "",
            "zerolinecolor": "white"
           },
           "yaxis": {
            "backgroundcolor": "#E5ECF6",
            "gridcolor": "white",
            "gridwidth": 2,
            "linecolor": "white",
            "showbackground": true,
            "ticks": "",
            "zerolinecolor": "white"
           },
           "zaxis": {
            "backgroundcolor": "#E5ECF6",
            "gridcolor": "white",
            "gridwidth": 2,
            "linecolor": "white",
            "showbackground": true,
            "ticks": "",
            "zerolinecolor": "white"
           }
          },
          "shapedefaults": {
           "line": {
            "color": "#2a3f5f"
           }
          },
          "ternary": {
           "aaxis": {
            "gridcolor": "white",
            "linecolor": "white",
            "ticks": ""
           },
           "baxis": {
            "gridcolor": "white",
            "linecolor": "white",
            "ticks": ""
           },
           "bgcolor": "#E5ECF6",
           "caxis": {
            "gridcolor": "white",
            "linecolor": "white",
            "ticks": ""
           }
          },
          "title": {
           "x": 0.05
          },
          "xaxis": {
           "automargin": true,
           "gridcolor": "white",
           "linecolor": "white",
           "ticks": "",
           "title": {
            "standoff": 15
           },
           "zerolinecolor": "white",
           "zerolinewidth": 2
          },
          "yaxis": {
           "automargin": true,
           "gridcolor": "white",
           "linecolor": "white",
           "ticks": "",
           "title": {
            "standoff": 15
           },
           "zerolinecolor": "white",
           "zerolinewidth": 2
          }
         }
        },
        "xaxis": {
         "rangeslider": {
          "visible": false
         }
        }
       }
      },
      "text/html": [
       "<div>                            <div id=\"8bb28769-a17f-4836-bc79-ec60b1fc3ffd\" class=\"plotly-graph-div\" style=\"height:525px; width:100%;\"></div>            <script type=\"text/javascript\">                require([\"plotly\"], function(Plotly) {                    window.PLOTLYENV=window.PLOTLYENV || {};                                    if (document.getElementById(\"8bb28769-a17f-4836-bc79-ec60b1fc3ffd\")) {                    Plotly.newPlot(                        \"8bb28769-a17f-4836-bc79-ec60b1fc3ffd\",                        [{\"close\":[134.21,144.54,139.0,116.99,105.21,97.75,112.5,115.91,112.3,111.5,113.57,112.67,117.2,115.24,115.0,117.98,111.5,114.22,118.76,123.02,123.5,121.99,122.0,122.88,123.89,126.7,133.2,131.98,133.48,129.75,129.0,132.3,128.8,129.0,129.3,122.29,122.22,121.42,121.65,118.0,111.5,108.3,100.0,106.35,108.9,108.15,104.0,99.98,99.99,99.51],\"high\":[135.98,147.49,146.93,139.89,125.6,108.13,115.0,118.8,124.66,113.44,115.78,113.46,122.0,118.68,117.45,118.7,119.8,115.81,118.76,125.3,125.25,124.5,123.62,123.0,124.0,126.93,133.85,133.22,136.0,135.47,130.58,132.59,132.25,129.9,129.78,129.4,122.5,123.84,123.47,123.1,119.0,111.42,108.99,110.1,109.6,111.79,110.3,104.7,103.7,101.6],\"low\":[132.1,134.0,134.05,107.72,92.28,79.1,92.5,107.14,106.64,97.7,109.6,109.26,111.55,113.01,113.44,114.5,110.25,103.5,112.2,116.57,122.3,119.57,120.12,121.21,122.0,123.1,125.72,128.9,130.62,124.7,125.6,127.66,127.0,126.4,127.2,115.05,116.0,119.1,119.9,117.25,106.42,107.3,88.5,95.0,104.0,106.73,100.53,98.0,98.0,98.95],\"x\":[\"2013-04-28T00:00:00\",\"2013-04-29T00:00:00\",\"2013-04-30T00:00:00\",\"2013-05-01T00:00:00\",\"2013-05-02T00:00:00\",\"2013-05-03T00:00:00\",\"2013-05-04T00:00:00\",\"2013-05-05T00:00:00\",\"2013-05-06T00:00:00\",\"2013-05-07T00:00:00\",\"2013-05-08T00:00:00\",\"2013-05-09T00:00:00\",\"2013-05-10T00:00:00\",\"2013-05-11T00:00:00\",\"2013-05-12T00:00:00\",\"2013-05-13T00:00:00\",\"2013-05-14T00:00:00\",\"2013-05-15T00:00:00\",\"2013-05-16T00:00:00\",\"2013-05-17T00:00:00\",\"2013-05-18T00:00:00\",\"2013-05-19T00:00:00\",\"2013-05-20T00:00:00\",\"2013-05-21T00:00:00\",\"2013-05-22T00:00:00\",\"2013-05-23T00:00:00\",\"2013-05-24T00:00:00\",\"2013-05-25T00:00:00\",\"2013-05-26T00:00:00\",\"2013-05-27T00:00:00\",\"2013-05-28T00:00:00\",\"2013-05-29T00:00:00\",\"2013-05-30T00:00:00\",\"2013-05-31T00:00:00\",\"2013-06-01T00:00:00\",\"2013-06-02T00:00:00\",\"2013-06-03T00:00:00\",\"2013-06-04T00:00:00\",\"2013-06-05T00:00:00\",\"2013-06-06T00:00:00\",\"2013-06-07T00:00:00\",\"2013-06-08T00:00:00\",\"2013-06-09T00:00:00\",\"2013-06-10T00:00:00\",\"2013-06-11T00:00:00\",\"2013-06-12T00:00:00\",\"2013-06-13T00:00:00\",\"2013-06-14T00:00:00\",\"2013-06-15T00:00:00\",\"2013-06-16T00:00:00\"],\"type\":\"candlestick\"}],                        {\"template\":{\"data\":{\"histogram2dcontour\":[{\"type\":\"histogram2dcontour\",\"colorbar\":{\"outlinewidth\":0,\"ticks\":\"\"},\"colorscale\":[[0.0,\"#0d0887\"],[0.1111111111111111,\"#46039f\"],[0.2222222222222222,\"#7201a8\"],[0.3333333333333333,\"#9c179e\"],[0.4444444444444444,\"#bd3786\"],[0.5555555555555556,\"#d8576b\"],[0.6666666666666666,\"#ed7953\"],[0.7777777777777778,\"#fb9f3a\"],[0.8888888888888888,\"#fdca26\"],[1.0,\"#f0f921\"]]}],\"choropleth\":[{\"type\":\"choropleth\",\"colorbar\":{\"outlinewidth\":0,\"ticks\":\"\"}}],\"histogram2d\":[{\"type\":\"histogram2d\",\"colorbar\":{\"outlinewidth\":0,\"ticks\":\"\"},\"colorscale\":[[0.0,\"#0d0887\"],[0.1111111111111111,\"#46039f\"],[0.2222222222222222,\"#7201a8\"],[0.3333333333333333,\"#9c179e\"],[0.4444444444444444,\"#bd3786\"],[0.5555555555555556,\"#d8576b\"],[0.6666666666666666,\"#ed7953\"],[0.7777777777777778,\"#fb9f3a\"],[0.8888888888888888,\"#fdca26\"],[1.0,\"#f0f921\"]]}],\"heatmap\":[{\"type\":\"heatmap\",\"colorbar\":{\"outlinewidth\":0,\"ticks\":\"\"},\"colorscale\":[[0.0,\"#0d0887\"],[0.1111111111111111,\"#46039f\"],[0.2222222222222222,\"#7201a8\"],[0.3333333333333333,\"#9c179e\"],[0.4444444444444444,\"#bd3786\"],[0.5555555555555556,\"#d8576b\"],[0.6666666666666666,\"#ed7953\"],[0.7777777777777778,\"#fb9f3a\"],[0.8888888888888888,\"#fdca26\"],[1.0,\"#f0f921\"]]}],\"heatmapgl\":[{\"type\":\"heatmapgl\",\"colorbar\":{\"outlinewidth\":0,\"ticks\":\"\"},\"colorscale\":[[0.0,\"#0d0887\"],[0.1111111111111111,\"#46039f\"],[0.2222222222222222,\"#7201a8\"],[0.3333333333333333,\"#9c179e\"],[0.4444444444444444,\"#bd3786\"],[0.5555555555555556,\"#d8576b\"],[0.6666666666666666,\"#ed7953\"],[0.7777777777777778,\"#fb9f3a\"],[0.8888888888888888,\"#fdca26\"],[1.0,\"#f0f921\"]]}],\"contourcarpet\":[{\"type\":\"contourcarpet\",\"colorbar\":{\"outlinewidth\":0,\"ticks\":\"\"}}],\"contour\":[{\"type\":\"contour\",\"colorbar\":{\"outlinewidth\":0,\"ticks\":\"\"},\"colorscale\":[[0.0,\"#0d0887\"],[0.1111111111111111,\"#46039f\"],[0.2222222222222222,\"#7201a8\"],[0.3333333333333333,\"#9c179e\"],[0.4444444444444444,\"#bd3786\"],[0.5555555555555556,\"#d8576b\"],[0.6666666666666666,\"#ed7953\"],[0.7777777777777778,\"#fb9f3a\"],[0.8888888888888888,\"#fdca26\"],[1.0,\"#f0f921\"]]}],\"surface\":[{\"type\":\"surface\",\"colorbar\":{\"outlinewidth\":0,\"ticks\":\"\"},\"colorscale\":[[0.0,\"#0d0887\"],[0.1111111111111111,\"#46039f\"],[0.2222222222222222,\"#7201a8\"],[0.3333333333333333,\"#9c179e\"],[0.4444444444444444,\"#bd3786\"],[0.5555555555555556,\"#d8576b\"],[0.6666666666666666,\"#ed7953\"],[0.7777777777777778,\"#fb9f3a\"],[0.8888888888888888,\"#fdca26\"],[1.0,\"#f0f921\"]]}],\"mesh3d\":[{\"type\":\"mesh3d\",\"colorbar\":{\"outlinewidth\":0,\"ticks\":\"\"}}],\"scatter\":[{\"fillpattern\":{\"fillmode\":\"overlay\",\"size\":10,\"solidity\":0.2},\"type\":\"scatter\"}],\"parcoords\":[{\"type\":\"parcoords\",\"line\":{\"colorbar\":{\"outlinewidth\":0,\"ticks\":\"\"}}}],\"scatterpolargl\":[{\"type\":\"scatterpolargl\",\"marker\":{\"colorbar\":{\"outlinewidth\":0,\"ticks\":\"\"}}}],\"bar\":[{\"error_x\":{\"color\":\"#2a3f5f\"},\"error_y\":{\"color\":\"#2a3f5f\"},\"marker\":{\"line\":{\"color\":\"#E5ECF6\",\"width\":0.5},\"pattern\":{\"fillmode\":\"overlay\",\"size\":10,\"solidity\":0.2}},\"type\":\"bar\"}],\"scattergeo\":[{\"type\":\"scattergeo\",\"marker\":{\"colorbar\":{\"outlinewidth\":0,\"ticks\":\"\"}}}],\"scatterpolar\":[{\"type\":\"scatterpolar\",\"marker\":{\"colorbar\":{\"outlinewidth\":0,\"ticks\":\"\"}}}],\"histogram\":[{\"marker\":{\"pattern\":{\"fillmode\":\"overlay\",\"size\":10,\"solidity\":0.2}},\"type\":\"histogram\"}],\"scattergl\":[{\"type\":\"scattergl\",\"marker\":{\"colorbar\":{\"outlinewidth\":0,\"ticks\":\"\"}}}],\"scatter3d\":[{\"type\":\"scatter3d\",\"line\":{\"colorbar\":{\"outlinewidth\":0,\"ticks\":\"\"}},\"marker\":{\"colorbar\":{\"outlinewidth\":0,\"ticks\":\"\"}}}],\"scattermapbox\":[{\"type\":\"scattermapbox\",\"marker\":{\"colorbar\":{\"outlinewidth\":0,\"ticks\":\"\"}}}],\"scatterternary\":[{\"type\":\"scatterternary\",\"marker\":{\"colorbar\":{\"outlinewidth\":0,\"ticks\":\"\"}}}],\"scattercarpet\":[{\"type\":\"scattercarpet\",\"marker\":{\"colorbar\":{\"outlinewidth\":0,\"ticks\":\"\"}}}],\"carpet\":[{\"aaxis\":{\"endlinecolor\":\"#2a3f5f\",\"gridcolor\":\"white\",\"linecolor\":\"white\",\"minorgridcolor\":\"white\",\"startlinecolor\":\"#2a3f5f\"},\"baxis\":{\"endlinecolor\":\"#2a3f5f\",\"gridcolor\":\"white\",\"linecolor\":\"white\",\"minorgridcolor\":\"white\",\"startlinecolor\":\"#2a3f5f\"},\"type\":\"carpet\"}],\"table\":[{\"cells\":{\"fill\":{\"color\":\"#EBF0F8\"},\"line\":{\"color\":\"white\"}},\"header\":{\"fill\":{\"color\":\"#C8D4E3\"},\"line\":{\"color\":\"white\"}},\"type\":\"table\"}],\"barpolar\":[{\"marker\":{\"line\":{\"color\":\"#E5ECF6\",\"width\":0.5},\"pattern\":{\"fillmode\":\"overlay\",\"size\":10,\"solidity\":0.2}},\"type\":\"barpolar\"}],\"pie\":[{\"automargin\":true,\"type\":\"pie\"}]},\"layout\":{\"autotypenumbers\":\"strict\",\"colorway\":[\"#636efa\",\"#EF553B\",\"#00cc96\",\"#ab63fa\",\"#FFA15A\",\"#19d3f3\",\"#FF6692\",\"#B6E880\",\"#FF97FF\",\"#FECB52\"],\"font\":{\"color\":\"#2a3f5f\"},\"hovermode\":\"closest\",\"hoverlabel\":{\"align\":\"left\"},\"paper_bgcolor\":\"white\",\"plot_bgcolor\":\"#E5ECF6\",\"polar\":{\"bgcolor\":\"#E5ECF6\",\"angularaxis\":{\"gridcolor\":\"white\",\"linecolor\":\"white\",\"ticks\":\"\"},\"radialaxis\":{\"gridcolor\":\"white\",\"linecolor\":\"white\",\"ticks\":\"\"}},\"ternary\":{\"bgcolor\":\"#E5ECF6\",\"aaxis\":{\"gridcolor\":\"white\",\"linecolor\":\"white\",\"ticks\":\"\"},\"baxis\":{\"gridcolor\":\"white\",\"linecolor\":\"white\",\"ticks\":\"\"},\"caxis\":{\"gridcolor\":\"white\",\"linecolor\":\"white\",\"ticks\":\"\"}},\"coloraxis\":{\"colorbar\":{\"outlinewidth\":0,\"ticks\":\"\"}},\"colorscale\":{\"sequential\":[[0.0,\"#0d0887\"],[0.1111111111111111,\"#46039f\"],[0.2222222222222222,\"#7201a8\"],[0.3333333333333333,\"#9c179e\"],[0.4444444444444444,\"#bd3786\"],[0.5555555555555556,\"#d8576b\"],[0.6666666666666666,\"#ed7953\"],[0.7777777777777778,\"#fb9f3a\"],[0.8888888888888888,\"#fdca26\"],[1.0,\"#f0f921\"]],\"sequentialminus\":[[0.0,\"#0d0887\"],[0.1111111111111111,\"#46039f\"],[0.2222222222222222,\"#7201a8\"],[0.3333333333333333,\"#9c179e\"],[0.4444444444444444,\"#bd3786\"],[0.5555555555555556,\"#d8576b\"],[0.6666666666666666,\"#ed7953\"],[0.7777777777777778,\"#fb9f3a\"],[0.8888888888888888,\"#fdca26\"],[1.0,\"#f0f921\"]],\"diverging\":[[0,\"#8e0152\"],[0.1,\"#c51b7d\"],[0.2,\"#de77ae\"],[0.3,\"#f1b6da\"],[0.4,\"#fde0ef\"],[0.5,\"#f7f7f7\"],[0.6,\"#e6f5d0\"],[0.7,\"#b8e186\"],[0.8,\"#7fbc41\"],[0.9,\"#4d9221\"],[1,\"#276419\"]]},\"xaxis\":{\"gridcolor\":\"white\",\"linecolor\":\"white\",\"ticks\":\"\",\"title\":{\"standoff\":15},\"zerolinecolor\":\"white\",\"automargin\":true,\"zerolinewidth\":2},\"yaxis\":{\"gridcolor\":\"white\",\"linecolor\":\"white\",\"ticks\":\"\",\"title\":{\"standoff\":15},\"zerolinecolor\":\"white\",\"automargin\":true,\"zerolinewidth\":2},\"scene\":{\"xaxis\":{\"backgroundcolor\":\"#E5ECF6\",\"gridcolor\":\"white\",\"linecolor\":\"white\",\"showbackground\":true,\"ticks\":\"\",\"zerolinecolor\":\"white\",\"gridwidth\":2},\"yaxis\":{\"backgroundcolor\":\"#E5ECF6\",\"gridcolor\":\"white\",\"linecolor\":\"white\",\"showbackground\":true,\"ticks\":\"\",\"zerolinecolor\":\"white\",\"gridwidth\":2},\"zaxis\":{\"backgroundcolor\":\"#E5ECF6\",\"gridcolor\":\"white\",\"linecolor\":\"white\",\"showbackground\":true,\"ticks\":\"\",\"zerolinecolor\":\"white\",\"gridwidth\":2}},\"shapedefaults\":{\"line\":{\"color\":\"#2a3f5f\"}},\"annotationdefaults\":{\"arrowcolor\":\"#2a3f5f\",\"arrowhead\":0,\"arrowwidth\":1},\"geo\":{\"bgcolor\":\"white\",\"landcolor\":\"#E5ECF6\",\"subunitcolor\":\"white\",\"showland\":true,\"showlakes\":true,\"lakecolor\":\"white\"},\"title\":{\"x\":0.05},\"mapbox\":{\"style\":\"light\"}}},\"xaxis\":{\"rangeslider\":{\"visible\":false}}},                        {\"responsive\": true}                    ).then(function(){\n",
       "                            \n",
       "var gd = document.getElementById('8bb28769-a17f-4836-bc79-ec60b1fc3ffd');\n",
       "var x = new MutationObserver(function (mutations, observer) {{\n",
       "        var display = window.getComputedStyle(gd).display;\n",
       "        if (!display || display === 'none') {{\n",
       "            console.log([gd, 'removed!']);\n",
       "            Plotly.purge(gd);\n",
       "            observer.disconnect();\n",
       "        }}\n",
       "}});\n",
       "\n",
       "// Listen for the removal of the full notebook cells\n",
       "var notebookContainer = gd.closest('#notebook-container');\n",
       "if (notebookContainer) {{\n",
       "    x.observe(notebookContainer, {childList: true});\n",
       "}}\n",
       "\n",
       "// Listen for the clearing of the current output cell\n",
       "var outputEl = gd.closest('.output');\n",
       "if (outputEl) {{\n",
       "    x.observe(outputEl, {childList: true});\n",
       "}}\n",
       "\n",
       "                        })                };                });            </script>        </div>"
      ]
     },
     "metadata": {},
     "output_type": "display_data"
    }
   ],
   "source": [
    "fig = go.Figure(data = candle_data)\n",
    "fig.update_layout(xaxis_rangeslider_visible = False)\n",
    "fig.show()"
   ]
  },
  {
   "cell_type": "code",
   "execution_count": 48,
   "metadata": {},
   "outputs": [
    {
     "data": {
      "text/plain": [
       "0        134.21\n",
       "1        144.54\n",
       "2        139.00\n",
       "3        116.99\n",
       "4        105.21\n",
       "         ...   \n",
       "1551    2671.78\n",
       "1552    2809.01\n",
       "1553    2726.45\n",
       "1554    2757.18\n",
       "1555    2875.34\n",
       "Name: Close, Length: 1556, dtype: float64"
      ]
     },
     "execution_count": 48,
     "metadata": {},
     "output_type": "execute_result"
    }
   ],
   "source": [
    "data['Close']"
   ]
  },
  {
   "cell_type": "code",
   "execution_count": 49,
   "metadata": {},
   "outputs": [
    {
     "data": {
      "text/plain": [
       "<matplotlib.axes._subplots.AxesSubplot at 0x1915ad037c0>"
      ]
     },
     "execution_count": 49,
     "metadata": {},
     "output_type": "execute_result"
    },
    {
     "data": {
      "image/png": "[encoded data removed]",
      "text/plain": [
       "<Figure size 432x288 with 1 Axes>"
      ]
     },
     "metadata": {
      "needs_background": "light"
     },
     "output_type": "display_data"
    }
   ],
   "source": [
    "data['Close'].plot()"
   ]
  },
  {
   "cell_type": "code",
   "execution_count": 51,
   "metadata": {},
   "outputs": [],
   "source": [
    "data.set_index('Date',inplace=True)"
   ]
  },
  {
   "cell_type": "code",
   "execution_count": 52,
   "metadata": {},
   "outputs": [
    {
     "data": {
      "text/html": [
       "<div>\n",
       "<style scoped>\n",
       "    .dataframe tbody tr th:only-of-type {\n",
       "        vertical-align: middle;\n",
       "    }\n",
       "\n",
       "    .dataframe tbody tr th {\n",
       "        vertical-align: top;\n",
       "    }\n",
       "\n",
       "    .dataframe thead th {\n",
       "        text-align: right;\n",
       "    }\n",
       "</style>\n",
       "<table border=\"1\" class=\"dataframe\">\n",
       "  <thead>\n",
       "    <tr style=\"text-align: right;\">\n",
       "      <th></th>\n",
       "      <th>Open</th>\n",
       "      <th>High</th>\n",
       "      <th>Low</th>\n",
       "      <th>Close</th>\n",
       "      <th>Volume</th>\n",
       "      <th>Market Cap</th>\n",
       "    </tr>\n",
       "    <tr>\n",
       "      <th>Date</th>\n",
       "      <th></th>\n",
       "      <th></th>\n",
       "      <th></th>\n",
       "      <th></th>\n",
       "      <th></th>\n",
       "      <th></th>\n",
       "    </tr>\n",
       "  </thead>\n",
       "  <tbody>\n",
       "    <tr>\n",
       "      <th>2013-04-28</th>\n",
       "      <td>135.30</td>\n",
       "      <td>135.98</td>\n",
       "      <td>132.10</td>\n",
       "      <td>134.21</td>\n",
       "      <td>-</td>\n",
       "      <td>1,500,520,000</td>\n",
       "    </tr>\n",
       "    <tr>\n",
       "      <th>2013-04-29</th>\n",
       "      <td>134.44</td>\n",
       "      <td>147.49</td>\n",
       "      <td>134.00</td>\n",
       "      <td>144.54</td>\n",
       "      <td>-</td>\n",
       "      <td>1,491,160,000</td>\n",
       "    </tr>\n",
       "    <tr>\n",
       "      <th>2013-04-30</th>\n",
       "      <td>144.00</td>\n",
       "      <td>146.93</td>\n",
       "      <td>134.05</td>\n",
       "      <td>139.00</td>\n",
       "      <td>-</td>\n",
       "      <td>1,597,780,000</td>\n",
       "    </tr>\n",
       "    <tr>\n",
       "      <th>2013-05-01</th>\n",
       "      <td>139.00</td>\n",
       "      <td>139.89</td>\n",
       "      <td>107.72</td>\n",
       "      <td>116.99</td>\n",
       "      <td>-</td>\n",
       "      <td>1,542,820,000</td>\n",
       "    </tr>\n",
       "    <tr>\n",
       "      <th>2013-05-02</th>\n",
       "      <td>116.38</td>\n",
       "      <td>125.60</td>\n",
       "      <td>92.28</td>\n",
       "      <td>105.21</td>\n",
       "      <td>-</td>\n",
       "      <td>1,292,190,000</td>\n",
       "    </tr>\n",
       "    <tr>\n",
       "      <th>...</th>\n",
       "      <td>...</td>\n",
       "      <td>...</td>\n",
       "      <td>...</td>\n",
       "      <td>...</td>\n",
       "      <td>...</td>\n",
       "      <td>...</td>\n",
       "    </tr>\n",
       "    <tr>\n",
       "      <th>2017-07-27</th>\n",
       "      <td>2538.71</td>\n",
       "      <td>2693.32</td>\n",
       "      <td>2529.34</td>\n",
       "      <td>2671.78</td>\n",
       "      <td>789,104,000</td>\n",
       "      <td>41,816,500,000</td>\n",
       "    </tr>\n",
       "    <tr>\n",
       "      <th>2017-07-28</th>\n",
       "      <td>2679.73</td>\n",
       "      <td>2897.45</td>\n",
       "      <td>2679.73</td>\n",
       "      <td>2809.01</td>\n",
       "      <td>1,380,100,000</td>\n",
       "      <td>44,144,400,000</td>\n",
       "    </tr>\n",
       "    <tr>\n",
       "      <th>2017-07-29</th>\n",
       "      <td>2807.02</td>\n",
       "      <td>2808.76</td>\n",
       "      <td>2692.80</td>\n",
       "      <td>2726.45</td>\n",
       "      <td>803,746,000</td>\n",
       "      <td>46,246,700,000</td>\n",
       "    </tr>\n",
       "    <tr>\n",
       "      <th>2017-07-30</th>\n",
       "      <td>2724.39</td>\n",
       "      <td>2758.53</td>\n",
       "      <td>2644.85</td>\n",
       "      <td>2757.18</td>\n",
       "      <td>705,943,000</td>\n",
       "      <td>44,890,700,000</td>\n",
       "    </tr>\n",
       "    <tr>\n",
       "      <th>2017-07-31</th>\n",
       "      <td>2763.24</td>\n",
       "      <td>2889.62</td>\n",
       "      <td>2720.61</td>\n",
       "      <td>2875.34</td>\n",
       "      <td>860,575,000</td>\n",
       "      <td>45,535,800,000</td>\n",
       "    </tr>\n",
       "  </tbody>\n",
       "</table>\n",
       "<p>1556 rows × 6 columns</p>\n",
       "</div>"
      ],
      "text/plain": [
       "               Open     High      Low    Close         Volume      Market Cap\n",
       "Date                                                                         \n",
       "2013-04-28   135.30   135.98   132.10   134.21              -   1,500,520,000\n",
       "2013-04-29   134.44   147.49   134.00   144.54              -   1,491,160,000\n",
       "2013-04-30   144.00   146.93   134.05   139.00              -   1,597,780,000\n",
       "2013-05-01   139.00   139.89   107.72   116.99              -   1,542,820,000\n",
       "2013-05-02   116.38   125.60    92.28   105.21              -   1,292,190,000\n",
       "...             ...      ...      ...      ...            ...             ...\n",
       "2017-07-27  2538.71  2693.32  2529.34  2671.78    789,104,000  41,816,500,000\n",
       "2017-07-28  2679.73  2897.45  2679.73  2809.01  1,380,100,000  44,144,400,000\n",
       "2017-07-29  2807.02  2808.76  2692.80  2726.45    803,746,000  46,246,700,000\n",
       "2017-07-30  2724.39  2758.53  2644.85  2757.18    705,943,000  44,890,700,000\n",
       "2017-07-31  2763.24  2889.62  2720.61  2875.34    860,575,000  45,535,800,000\n",
       "\n",
       "[1556 rows x 6 columns]"
      ]
     },
     "execution_count": 52,
     "metadata": {},
     "output_type": "execute_result"
    }
   ],
   "source": [
    "data"
   ]
  },
  {
   "cell_type": "code",
   "execution_count": 56,
   "metadata": {},
   "outputs": [
    {
     "data": {
      "text/plain": [
       "<matplotlib.axes._subplots.AxesSubplot at 0x1915ad6ffd0>"
      ]
     },
     "execution_count": 56,
     "metadata": {},
     "output_type": "execute_result"
    },
    {
     "data": {
      "image/png": "[encoded data removed]",
      "text/plain": [
       "<Figure size 432x288 with 1 Axes>"
      ]
     },
     "metadata": {
      "needs_background": "light"
     },
     "output_type": "display_data"
    }
   ],
   "source": [
    "data['Close'].plot()"
   ]
  },
  {
   "cell_type": "code",
   "execution_count": 58,
   "metadata": {},
   "outputs": [
    {
     "data": {
      "image/png": "[encoded data removed]",
      "text/plain": [
       "<Figure size 1440x720 with 2 Axes>"
      ]
     },
     "metadata": {
      "needs_background": "light"
     },
     "output_type": "display_data"
    }
   ],
   "source": [
    "plt.figure(figsize=(20,10))\n",
    "plt.subplot(1,2,1)\n",
    "data['Close'].plot()\n",
    "plt.title('No Scaling')\n",
    "\n",
    "plt.subplot(1,2,2)\n",
    "np.log1p(data['Close']).plot()\n",
    "plt.title('Log Scaling')\n",
    "plt.yscale('log')"
   ]
  },
  {
   "cell_type": "code",
   "execution_count": 59,
   "metadata": {},
   "outputs": [
    {
     "data": {
      "text/html": [
       "<div>\n",
       "<style scoped>\n",
       "    .dataframe tbody tr th:only-of-type {\n",
       "        vertical-align: middle;\n",
       "    }\n",
       "\n",
       "    .dataframe tbody tr th {\n",
       "        vertical-align: top;\n",
       "    }\n",
       "\n",
       "    .dataframe thead th {\n",
       "        text-align: right;\n",
       "    }\n",
       "</style>\n",
       "<table border=\"1\" class=\"dataframe\">\n",
       "  <thead>\n",
       "    <tr style=\"text-align: right;\">\n",
       "      <th></th>\n",
       "      <th>Open</th>\n",
       "      <th>High</th>\n",
       "      <th>Low</th>\n",
       "      <th>Close</th>\n",
       "      <th>Volume</th>\n",
       "      <th>Market Cap</th>\n",
       "    </tr>\n",
       "    <tr>\n",
       "      <th>Date</th>\n",
       "      <th></th>\n",
       "      <th></th>\n",
       "      <th></th>\n",
       "      <th></th>\n",
       "      <th></th>\n",
       "      <th></th>\n",
       "    </tr>\n",
       "  </thead>\n",
       "  <tbody>\n",
       "    <tr>\n",
       "      <th>2013-04-28</th>\n",
       "      <td>135.30</td>\n",
       "      <td>135.98</td>\n",
       "      <td>132.10</td>\n",
       "      <td>134.21</td>\n",
       "      <td>-</td>\n",
       "      <td>1,500,520,000</td>\n",
       "    </tr>\n",
       "    <tr>\n",
       "      <th>2013-04-29</th>\n",
       "      <td>134.44</td>\n",
       "      <td>147.49</td>\n",
       "      <td>134.00</td>\n",
       "      <td>144.54</td>\n",
       "      <td>-</td>\n",
       "      <td>1,491,160,000</td>\n",
       "    </tr>\n",
       "    <tr>\n",
       "      <th>2013-04-30</th>\n",
       "      <td>144.00</td>\n",
       "      <td>146.93</td>\n",
       "      <td>134.05</td>\n",
       "      <td>139.00</td>\n",
       "      <td>-</td>\n",
       "      <td>1,597,780,000</td>\n",
       "    </tr>\n",
       "    <tr>\n",
       "      <th>2013-05-01</th>\n",
       "      <td>139.00</td>\n",
       "      <td>139.89</td>\n",
       "      <td>107.72</td>\n",
       "      <td>116.99</td>\n",
       "      <td>-</td>\n",
       "      <td>1,542,820,000</td>\n",
       "    </tr>\n",
       "  </tbody>\n",
       "</table>\n",
       "</div>"
      ],
      "text/plain": [
       "              Open    High     Low   Close Volume     Market Cap\n",
       "Date                                                            \n",
       "2013-04-28  135.30  135.98  132.10  134.21      -  1,500,520,000\n",
       "2013-04-29  134.44  147.49  134.00  144.54      -  1,491,160,000\n",
       "2013-04-30  144.00  146.93  134.05  139.00      -  1,597,780,000\n",
       "2013-05-01  139.00  139.89  107.72  116.99      -  1,542,820,000"
      ]
     },
     "execution_count": 59,
     "metadata": {},
     "output_type": "execute_result"
    }
   ],
   "source": [
    "data.head(4)"
   ]
  },
  {
   "cell_type": "code",
   "execution_count": 60,
   "metadata": {},
   "outputs": [
    {
     "data": {
      "text/plain": [
       "Date\n",
       "2013-04-28     134.21\n",
       "2013-04-29     144.54\n",
       "2013-04-30     139.00\n",
       "2013-05-01     116.99\n",
       "2013-05-02     105.21\n",
       "               ...   \n",
       "2017-07-27    2671.78\n",
       "2017-07-28    2809.01\n",
       "2017-07-29    2726.45\n",
       "2017-07-30    2757.18\n",
       "2017-07-31    2875.34\n",
       "Name: Close, Length: 1556, dtype: float64"
      ]
     },
     "execution_count": 60,
     "metadata": {},
     "output_type": "execute_result"
    }
   ],
   "source": [
    "data['Close']"
   ]
  },
  {
   "cell_type": "code",
   "execution_count": 61,
   "metadata": {},
   "outputs": [
    {
     "data": {
      "text/plain": [
       "Date\n",
       "2013-12-31     257.474476\n",
       "2014-12-31     527.236658\n",
       "2015-12-31     272.453260\n",
       "2016-12-31     568.492131\n",
       "2017-12-31    1628.622123\n",
       "Freq: A-DEC, Name: Close, dtype: float64"
      ]
     },
     "execution_count": 61,
     "metadata": {},
     "output_type": "execute_result"
    }
   ],
   "source": [
    "data['Close'].resample('Y').mean()"
   ]
  },
  {
   "cell_type": "code",
   "execution_count": 62,
   "metadata": {},
   "outputs": [
    {
     "data": {
      "text/plain": [
       "<matplotlib.axes._subplots.AxesSubplot at 0x1915b5ce430>"
      ]
     },
     "execution_count": 62,
     "metadata": {},
     "output_type": "execute_result"
    },
    {
     "data": {
      "image/png": "[encoded data removed]",
      "text/plain": [
       "<Figure size 432x288 with 1 Axes>"
      ]
     },
     "metadata": {
      "needs_background": "light"
     },
     "output_type": "display_data"
    }
   ],
   "source": [
    "data['Close'].resample('Y').mean().plot()"
   ]
  },
  {
   "cell_type": "code",
   "execution_count": 65,
   "metadata": {},
   "outputs": [
    {
     "data": {
      "text/plain": [
       "Date\n",
       "2013-06-30     115.162187\n",
       "2013-09-30     111.291196\n",
       "2013-12-31     502.657609\n",
       "2014-03-31     700.586000\n",
       "2014-06-30     520.929341\n",
       "2014-09-30     534.055435\n",
       "2014-12-31     357.075761\n",
       "2015-03-31     251.209333\n",
       "2015-06-30     236.858022\n",
       "2015-09-30     254.859891\n",
       "2015-12-31     346.037065\n",
       "2016-03-31     410.728571\n",
       "2016-06-30     512.492747\n",
       "2016-09-30     615.702283\n",
       "2016-12-31     732.721413\n",
       "2017-03-31    1034.707444\n",
       "2017-06-30    1912.552198\n",
       "2017-09-30    2519.418387\n",
       "Freq: Q-DEC, Name: Close, dtype: float64"
      ]
     },
     "execution_count": 65,
     "metadata": {},
     "output_type": "execute_result"
    }
   ],
   "source": [
    "data['Close'].resample('Q').mean()"
   ]
  },
  {
   "cell_type": "code",
   "execution_count": 63,
   "metadata": {},
   "outputs": [
    {
     "data": {
      "text/plain": [
       "<matplotlib.axes._subplots.AxesSubplot at 0x1915c8d1fa0>"
      ]
     },
     "execution_count": 63,
     "metadata": {},
     "output_type": "execute_result"
    },
    {
     "data": {
      "image/png": "[encoded data removed]",
      "text/plain": [
       "<Figure size 432x288 with 1 Axes>"
      ]
     },
     "metadata": {
      "needs_background": "light"
     },
     "output_type": "display_data"
    }
   ],
   "source": [
    "data['Close'].resample('Q').mean().plot()"
   ]
  },
  {
   "cell_type": "code",
   "execution_count": 64,
   "metadata": {},
   "outputs": [
    {
     "data": {
      "text/plain": [
       "<matplotlib.axes._subplots.AxesSubplot at 0x1915c90ed30>"
      ]
     },
     "execution_count": 64,
     "metadata": {},
     "output_type": "execute_result"
    },
    {
     "data": {
      "image/png": "[encoded data removed]",
      "text/plain": [
       "<Figure size 432x288 with 1 Axes>"
      ]
     },
     "metadata": {
      "needs_background": "light"
     },
     "output_type": "display_data"
    }
   ],
   "source": [
    "data['Close'].resample('M').mean().plot()"
   ]
  },
  {
   "cell_type": "code",
   "execution_count": null,
   "metadata": {},
   "outputs": [],
   "source": []
  },
  {
   "cell_type": "code",
   "execution_count": null,
   "metadata": {},
   "outputs": [],
   "source": []
  }
 ],
 "metadata": {
  "kernelspec": {
   "display_name": "Python 3",
   "language": "python",
   "name": "python3"
  },
  "language_info": {
   "codemirror_mode": {
    "name": "ipython",
    "version": 3
   },
   "file_extension": ".py",
   "mimetype": "text/x-python",
   "name": "python",
   "nbconvert_exporter": "python",
   "pygments_lexer": "ipython3",
   "version": "3.8.3"
  }
 },
 "nbformat": 4,
 "nbformat_minor": 4
}
